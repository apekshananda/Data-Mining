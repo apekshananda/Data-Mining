{
  "cells": [
    {
      "cell_type": "markdown",
      "source": [
        "![SenecaSDDS.jpg](data:image/jpeg;base64,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)"
      ],
      "metadata": {
        "id": "4kqV9ncjbdBA"
      }
    },
    {
      "cell_type": "markdown",
      "source": [
        "# **Introduction to Data Mining**\n",
        "# **Workshop2**"
      ],
      "metadata": {
        "id": "iU1yU8tfhIb3"
      }
    },
    {
      "cell_type": "markdown",
      "source": [
        "## **Part Two: Introduction to Data Mining-Clarifying the Concepts**\n",
        "Answer the following questions using your own words."
      ],
      "metadata": {
        "id": "aOoT_cxIyMfq"
      }
    },
    {
      "cell_type": "markdown",
      "source": [
        "#### Question 1. Name the seven phases of the data science methodology (DSM).\n"
      ],
      "metadata": {
        "id": "Py0ww3eczjKh"
      }
    },
    {
      "cell_type": "markdown",
      "source": [
        "**>>>>>Write your answer here <<<<<**\n",
        "\n",
        "Ans. DSM is an interative and adaptive process\n",
        "1. The problem-understanding phase includes writing the project goals transform them into forms which can be solved by using data science techniques.\n",
        "2. The data preparation phase consists of cleaning data and making it ready to use in order to apply algorithms or techniques to acheive project objectives.\n",
        "3. Exploratory Data Analysis phase: once the data cleaning process is completed we will explore the data and get basic informations from them.\n",
        "4. Setup phase: almost ready to start modelling the data.\n",
        "5. Modelling phase consist of applying machine learning algorithms to get meaningful relations which were hidden in the data.\n",
        "6. Evaluation phase includes evaluation our model, this phase mainly deals with checking our model, whether it is performing well or we need work more on the model.\n",
        "7. Deployment phase: when the model is ready and ready to report the management.\n",
        "\n",
        "\n",
        "\n",
        "\n",
        "\n",
        "\n",
        "\n"
      ],
      "metadata": {
        "id": "AR-RHdQg0qUc"
      }
    },
    {
      "cell_type": "markdown",
      "source": [
        "#### Question 2. Explain how the DSM is adaptive."
      ],
      "metadata": {
        "id": "anlR4UUg257I"
      }
    },
    {
      "cell_type": "markdown",
      "source": [
        "**>>>>>Write your answer here <<<<<**\n",
        "\n",
        "Data science methodology is adaptive because technology is constantly evovling, it is adaptive as we can anytime change the objectives of the project, we can adapt new alogirthms according to the problems evolved.There may be many uncertain data and raw data which needs cleaning to get basic information everytime when we are evaluating the model.\n",
        "\n",
        "\n",
        "\n",
        "\n"
      ],
      "metadata": {
        "id": "wPfYf-yG3LCc"
      }
    },
    {
      "cell_type": "markdown",
      "source": [
        "#### Question 3. Describe how the DSM is iterative."
      ],
      "metadata": {
        "id": "p1mODSfF3Uss"
      }
    },
    {
      "cell_type": "markdown",
      "source": [
        "**>>>>>Write your answer here <<<<<**\n",
        "\n",
        "Assuming a situation where we have already identified project objective, cleaned the data, during evaluation process, while applying algorithms to  the data, if we came across to issue where we need to revaluate project objectives or work more on data processing, we can work on that and continue with the model until it's ready for deployment. This situation explains how DSM is iterative.\n",
        "\n",
        "\n",
        "\n",
        "\n",
        "\n",
        "\n",
        "\n"
      ],
      "metadata": {
        "id": "10svbE063Uss"
      }
    },
    {
      "cell_type": "markdown",
      "source": [
        "#### Question 4. Tuples/records with missing values for some attributes are common in real-world data. Describe various methods for handling this problem."
      ],
      "metadata": {
        "id": "xm-CQ36uhz5S"
      }
    },
    {
      "cell_type": "markdown",
      "source": [
        "**>>>>>Write your answer here <<<<<**\n",
        "\n",
        "Ans. Records with missing values is an example of dirty data, the cleaner the data the more accurate the information, to get more accuracy, one can fill the missing values or remove it to get the consistency, integrate data from multiple sources, reduce the data to the extent where it produce to the same analysis. Some methods to deal with noisy data are the Bining method: sorting the data into N intervals and smooth it into bin means, bin boundaries.\n",
        "2. Clustering: finding and removing them.\n",
        "3. Regression: cleaning by means of regression methods(linear, multiple).\n",
        "\n",
        "\n",
        "\n",
        "\n",
        "\n",
        "\n",
        "\n"
      ],
      "metadata": {
        "id": "d0pbZPXniEiF"
      }
    },
    {
      "cell_type": "markdown",
      "metadata": {
        "id": "K9N-OVKEMZ8K"
      },
      "source": [
        "## **Part Three: Python – Introduction to Pandas**\n",
        "\n"
      ]
    },
    {
      "cell_type": "code",
      "execution_count": 185,
      "metadata": {
        "id": "pVNq0rR8MZ8M"
      },
      "outputs": [],
      "source": [
        "# Loading neccesary libraries:\n",
        "import pandas as pd\n",
        "import numpy as np\n",
        "import matplotlib.pyplot as plt\n",
        "import seaborn as sns\n",
        "from scipy import  stats\n",
        "import warnings\n",
        "\n",
        "\n",
        "\n"
      ]
    },
    {
      "cell_type": "code",
      "source": [
        "warnings.filterwarnings('ignore')\n",
        "plt.style.use('default')"
      ],
      "metadata": {
        "id": "Yyxo1oZFIfQj"
      },
      "execution_count": 116,
      "outputs": []
    },
    {
      "cell_type": "code",
      "source": [
        "%matplotlib inline\n",
        "# without this the plots would be opened  in a new window (not browser)\n",
        "# with this instruction plots will be included in the notebook"
      ],
      "metadata": {
        "id": "srdvJ1cEcufT"
      },
      "execution_count": 117,
      "outputs": []
    },
    {
      "cell_type": "code",
      "source": [
        "\n",
        "# Use %config InlineBackend.figure_format = 'retina'\n",
        "# after %matplotlib inline to render higher resolution images\n",
        "%config InlineBackend.figure_format = 'retina'"
      ],
      "metadata": {
        "id": "KgZ178t-cydi"
      },
      "execution_count": 118,
      "outputs": []
    },
    {
      "cell_type": "code",
      "source": [
        "# If you wish to use Google colab, the following code will allow you to mount your Google Drive. Otherwise, comment on the following lines.\n",
        "from google.colab import drive\n",
        "drive.mount('/content/gdrive')"
      ],
      "metadata": {
        "id": "sjjBGps4c1gK",
        "colab": {
          "base_uri": "https://localhost:8080/"
        },
        "outputId": "d14ae4ac-be82-401f-a6d6-864ee3d968b8"
      },
      "execution_count": 119,
      "outputs": [
        {
          "output_type": "stream",
          "name": "stdout",
          "text": [
            "Drive already mounted at /content/gdrive; to attempt to forcibly remount, call drive.mount(\"/content/gdrive\", force_remount=True).\n"
          ]
        }
      ]
    },
    {
      "cell_type": "code",
      "source": [
        "# To print multiple outputs\n",
        "from IPython.core.interactiveshell import InteractiveShell\n",
        "InteractiveShell.ast_node_interactivity = 'all'\n",
        "# Set it to None to display all columns in the dataframe\n",
        "pd.set_option('display.max_columns', None)\n"
      ],
      "metadata": {
        "id": "m6pO19ymApx2"
      },
      "execution_count": 120,
      "outputs": []
    },
    {
      "cell_type": "code",
      "execution_count": 121,
      "metadata": {
        "id": "K8cePgDmMZ8O",
        "colab": {
          "base_uri": "https://localhost:8080/"
        },
        "outputId": "4502095f-4289-4b70-a07c-0008ea1ab2e0"
      },
      "outputs": [
        {
          "output_type": "stream",
          "name": "stdout",
          "text": [
            "Data imported successfully\n"
          ]
        }
      ],
      "source": [
        "\n",
        "#Reading the data from google drive\n",
        "data=pd.read_csv('/content/gdrive/MyDrive/Colab Notebooks/olympics.csv',index_col=0,skiprows=1)\n",
        "#Print that data imported successfully\n",
        "print(\"Data imported successfully\")\n",
        "\n",
        "\n"
      ]
    },
    {
      "cell_type": "markdown",
      "source": [
        "**Task**.  Explain the below Python Code."
      ],
      "metadata": {
        "id": "RrGckvz-ujNy"
      }
    },
    {
      "cell_type": "code",
      "source": [
        "\n",
        "\n",
        "\n",
        "\n",
        "### Explain the below Python Code.\n",
        "for col in data.columns:\n",
        "  if col[:2] == '01':\n",
        "    data.rename(columns={col: 'Gold' + col[4:]}, inplace=True)\n",
        "  if col[:2] == '02':\n",
        "    data.rename(columns={col: 'Silver' + col[4:]}, inplace=True)\n",
        "  if col[:2] == '03':\n",
        "    data.rename(columns={col: 'Bronze' + col[4:]}, inplace=True)\n",
        "  if col[:1] == '№':\n",
        "    data.rename(columns={col: '#' + col[1:]}, inplace=True)\n",
        "names_ids = data.index.str.split('\\s\\(')  # split the index by '('\n",
        "# the [0] element is the country name (new index)\n",
        "data.index = names_ids.str[0]\n",
        "# the [1] element is the abbreviation or ID (take first 3 characters from that)\n",
        "data['ID'] = names_ids.str[1].str[:3]\n",
        "data = data.drop('Totals')\n"
      ],
      "metadata": {
        "id": "TU2fyy-cmx6Z"
      },
      "execution_count": 122,
      "outputs": []
    },
    {
      "cell_type": "markdown",
      "source": [
        "### >>>>>Answer here<<<<<\n",
        "\n",
        "for col in data.columns runs the loop through each column from the file, and it checks the condition if starting two characters are equivalent to '01','02','03''N^0' then rename those columns with Gold,Silver and Bronze or # and keep everything else the same.\n",
        "\n",
        "After completing the iteration names_ids= will split the index by '('\n",
        "data['ID'] takes the first 3 characters from that [:3] denotes that.\n",
        "The last line drop \"Totals\" row from the csv file.\n",
        "\n",
        "\n",
        "\n",
        "\n",
        "\n"
      ],
      "metadata": {
        "id": "zDR87ZPFuq1E"
      }
    },
    {
      "cell_type": "markdown",
      "source": [
        "**Task**. What is the  data.shape value?"
      ],
      "metadata": {
        "id": "rzxEDacvudhN"
      }
    },
    {
      "cell_type": "code",
      "source": [
        "#Write your answer and code here\n",
        "shape = data.shape\n",
        "print(shape)\n",
        "#The data.shape value refers to the dimensions of a data structure in a programming context.\n",
        "#In this example value of data.shape is (146,16)"
      ],
      "metadata": {
        "id": "8ch1qpkYuvfk",
        "colab": {
          "base_uri": "https://localhost:8080/"
        },
        "outputId": "eea37654-efda-4632-8960-36e0f47885e9"
      },
      "execution_count": 123,
      "outputs": [
        {
          "output_type": "stream",
          "name": "stdout",
          "text": [
            "(146, 16)\n"
          ]
        }
      ]
    },
    {
      "cell_type": "markdown",
      "source": [
        "**Task**. How many rows are in the olympics.csv data set? How many columns are in the olympics.csv   dataset?"
      ],
      "metadata": {
        "id": "nPxIEOPDu3lE"
      }
    },
    {
      "cell_type": "code",
      "source": [
        "\n",
        "\n",
        "#Write your answer and code here\n",
        "print('Number of rows = %d' % (data.shape[0]))\n",
        "print('Number of columns = %d' % (data.shape[1]))\n",
        "#There are 146 number of rows and 16 number of columns in olympics.csv."
      ],
      "metadata": {
        "id": "IEwETLYLu8to",
        "colab": {
          "base_uri": "https://localhost:8080/"
        },
        "outputId": "66135ff5-a784-49bf-ea4f-da2897b3845e"
      },
      "execution_count": 124,
      "outputs": [
        {
          "output_type": "stream",
          "name": "stdout",
          "text": [
            "Number of rows = 146\n",
            "Number of columns = 16\n"
          ]
        }
      ]
    },
    {
      "cell_type": "markdown",
      "source": [
        "**Task**. Which country has won the most gold medals in summer games?"
      ],
      "metadata": {
        "id": "d1E0Nd_gvYf1"
      }
    },
    {
      "cell_type": "code",
      "source": [
        "#Write your answer and code here\n",
        "#idxmax returns the index with highest number in the particular column\n",
        "#The country with most gold medals=United States\n",
        "print(data['Gold'].idxmax())\n"
      ],
      "metadata": {
        "id": "dNoprzvpva50",
        "colab": {
          "base_uri": "https://localhost:8080/"
        },
        "outputId": "1998e250-ff3a-46cb-fc1a-5cbd3ea06b96"
      },
      "execution_count": 125,
      "outputs": [
        {
          "output_type": "stream",
          "name": "stdout",
          "text": [
            "United States\n"
          ]
        }
      ]
    },
    {
      "cell_type": "markdown",
      "source": [
        "**Task**. Which country had the biggest difference between their summer and winter gold medal counts?"
      ],
      "metadata": {
        "id": "bN260QCHvxka"
      }
    },
    {
      "cell_type": "code",
      "source": [
        "#Write your answer and code here\n",
        "print((data['Gold'] - data['Gold.1']).idxmax())\n",
        "\n"
      ],
      "metadata": {
        "id": "x2EeQPKBv1We",
        "colab": {
          "base_uri": "https://localhost:8080/"
        },
        "outputId": "a76bb3b2-c899-4a49-ba5a-fdaf8aac47b7"
      },
      "execution_count": 126,
      "outputs": [
        {
          "output_type": "stream",
          "name": "stdout",
          "text": [
            "United States\n"
          ]
        }
      ]
    },
    {
      "cell_type": "markdown",
      "source": [
        "\n",
        "\n",
        "**Task**. Which country has the biggest difference between summer and winter gold medals relative to their total gold medal counts?\n",
        "\n",
        "$$\\frac{SummerGoldMedal - WinterGoldMedal}{TotalGoldMedal}$$"
      ],
      "metadata": {
        "id": "hViJ8HpYxt1j"
      }
    },
    {
      "cell_type": "code",
      "source": [
        "\n",
        "#Write your answer and code here\n",
        "#The biggest difference between summer and winter gold medals relative to their total gold medal\n",
        "print(((data['Gold']-data['Gold.1'])/(data['Gold']+data['Gold.1'])).idxmax())"
      ],
      "metadata": {
        "id": "G3dlmZ_t106c",
        "colab": {
          "base_uri": "https://localhost:8080/"
        },
        "outputId": "82039518-00cf-43be-ba21-91ef3c759773"
      },
      "execution_count": 127,
      "outputs": [
        {
          "output_type": "stream",
          "name": "stdout",
          "text": [
            "Algeria\n"
          ]
        }
      ]
    },
    {
      "cell_type": "markdown",
      "source": [
        "## **Part Four: Data Preprocessing**\n"
      ],
      "metadata": {
        "id": "tY_NS0QH11eg"
      }
    },
    {
      "cell_type": "markdown",
      "source": [
        "**Task**. Import the Pandas library package and load the bank marketing dataset (`bank_marketing_train.csv`) using the read_csv function."
      ],
      "metadata": {
        "id": "siQlb7qE2BRT"
      }
    },
    {
      "cell_type": "code",
      "source": [
        "\n",
        "#Write your answer and code here\n",
        "## Make sure you connect to Your Google Drive\n",
        "\n",
        "bank_data=pd.read_csv('/content/gdrive/MyDrive/Colab Notebooks/bank_marketing_train.csv')"
      ],
      "metadata": {
        "id": "13dXiXn12ARq"
      },
      "execution_count": 128,
      "outputs": []
    },
    {
      "cell_type": "markdown",
      "source": [
        "**Task**. Determine the number of rows in the dataset, derive an index field, and add it to the data set."
      ],
      "metadata": {
        "id": "42pHyTJg3TVX"
      }
    },
    {
      "cell_type": "code",
      "source": [
        "\n",
        "\n",
        "#Write your answer and code here\n",
        "print('Number of rows = %d' % (bank_data.shape[0]))"
      ],
      "metadata": {
        "id": "OP2fo3fa3Wyy",
        "colab": {
          "base_uri": "https://localhost:8080/"
        },
        "outputId": "dc1d6755-9aac-49ef-e0df-18c9b5399003"
      },
      "execution_count": 129,
      "outputs": [
        {
          "output_type": "stream",
          "name": "stdout",
          "text": [
            "Number of rows = 32951\n"
          ]
        }
      ]
    },
    {
      "cell_type": "markdown",
      "source": [
        "**Task**. For the `pdays` field, change the field value 999 to the appropriate code for missing values. In python, we use `numpy.NaN`."
      ],
      "metadata": {
        "id": "UOPH04fZ39YF"
      }
    },
    {
      "cell_type": "code",
      "source": [
        "#Write your answer and code here\n",
        "\n",
        "#first tasks of converting missing values to Nan\n",
        "data=bank_data['pdays'].replace(999,np.NaN)\n",
        "print(data)"
      ],
      "metadata": {
        "id": "PJrp-2pQ4A6U",
        "colab": {
          "base_uri": "https://localhost:8080/"
        },
        "outputId": "14d17eec-d66c-4460-8943-dbd3a28ce66a"
      },
      "execution_count": 130,
      "outputs": [
        {
          "output_type": "stream",
          "name": "stdout",
          "text": [
            "0       NaN\n",
            "1       NaN\n",
            "2       NaN\n",
            "3       NaN\n",
            "4       NaN\n",
            "         ..\n",
            "32946   NaN\n",
            "32947   NaN\n",
            "32948   NaN\n",
            "32949   NaN\n",
            "32950   NaN\n",
            "Name: pdays, Length: 32951, dtype: float64\n"
          ]
        }
      ]
    },
    {
      "cell_type": "markdown",
      "source": [
        "**Task**. For the education field, reexpress the field values as the numeric values using the table shown below.\n",
        "\n",
        "| Categorical Value | Numeric Value |\n",
        "|---|---|\n",
        "| illiterate | 1 |\n",
        "| basic.4y | 2 |\n",
        "|  basic.6y |  3 |\n",
        "|basic.9y\t| 4 |\n",
        "|high.school|\t5|\n",
        "|professional.course|\t5|\n",
        "|university.degree\t|16|\n",
        "|unknown\t|Missing value (`numpy.NaN`)|\n"
      ],
      "metadata": {
        "id": "66VwBcg94iLk"
      }
    },
    {
      "cell_type": "code",
      "source": [
        "\n",
        "#Write your answer and code here\n",
        "# Replace the values in the 'education' column using the mapping\n",
        "bank_data['education'] = bank_data['education'].replace({'illiterate': 1,\n",
        "    'basic.4y': 2,\n",
        "    'basic.6y': 3,\n",
        "    'basic.9y': 4,\n",
        "    'high.school': 5,\n",
        "    'professional.course': 5,\n",
        "    'university.degree': 16,\n",
        "    'unknown': np.NaN})\n",
        "print(bank_data['education'])\n"
      ],
      "metadata": {
        "id": "TKjsx_Cj4eU1",
        "colab": {
          "base_uri": "https://localhost:8080/"
        },
        "outputId": "03c87cde-3022-4b46-bc63-0bafc0b9b138"
      },
      "execution_count": 158,
      "outputs": [
        {
          "output_type": "stream",
          "name": "stdout",
          "text": [
            "0         2.0\n",
            "1         5.0\n",
            "2         5.0\n",
            "3         3.0\n",
            "4         4.0\n",
            "         ... \n",
            "32946     5.0\n",
            "32947     5.0\n",
            "32948    16.0\n",
            "32949     5.0\n",
            "32950     5.0\n",
            "Name: education, Length: 32951, dtype: float64\n"
          ]
        }
      ]
    },
    {
      "cell_type": "markdown",
      "source": [
        "**Task**. Standardize the field age, and store the new field in `age_z`. Then,  Print out a list of the first ten records, including the variables `age` and `age_z`.\n",
        "\n"
      ],
      "metadata": {
        "id": "uc61Ttbp6aY8"
      }
    },
    {
      "cell_type": "code",
      "source": [
        "\n",
        "#Write your answer and code here\n",
        "bank_data['age_z']=(bank_data.age-bank_data.age.mean())/bank_data.age.std()\n",
        "print(bank_data[['age', 'age_z']].head(10))"
      ],
      "metadata": {
        "id": "TiVoELll6NYV",
        "colab": {
          "base_uri": "https://localhost:8080/",
          "height": 243
        },
        "outputId": "bd8f4afa-758b-4d67-8417-d567a7e2b28b"
      },
      "execution_count": 155,
      "outputs": [
        {
          "output_type": "stream",
          "name": "stdout",
          "text": [
            "   age     age_z\n",
            "0   56  1.536859\n",
            "1   57  1.632918\n",
            "2   37 -0.288268\n",
            "3   40 -0.000090\n",
            "4   45  0.480206\n",
            "5   59  1.825037\n",
            "6   24 -1.537040\n",
            "7   25 -1.440980\n",
            "8   41  0.095969\n",
            "9   29 -1.056743\n"
          ]
        },
        {
          "output_type": "execute_result",
          "data": {
            "text/plain": [
              "\"\\n#Write your answer and code here\\n# Create a StandardScaler object\\nscaler = StandardScaler()\\nbank_data['age_z'] = scaler.fit_transform(bank_data[['age']])\\nprint(bank_data[['age', 'age_z']].head(10))\\n\""
            ],
            "application/vnd.google.colaboratory.intrinsic+json": {
              "type": "string"
            }
          },
          "metadata": {},
          "execution_count": 155
        }
      ]
    },
    {
      "cell_type": "markdown",
      "source": [
        "**Task**. Obtain a list of all outliers records according to the field age_z. Print out a listing of the ten largest age_z values. Use the following condition to determine the extreme outlier values for standardized field age_z:   'age_z > 3 | age_z < ‐3'"
      ],
      "metadata": {
        "id": "FpsvAJA47KWb"
      }
    },
    {
      "cell_type": "code",
      "source": [],
      "metadata": {
        "id": "liZEVl7-6TB0"
      },
      "execution_count": null,
      "outputs": []
    },
    {
      "cell_type": "code",
      "source": [
        "#Write your answer and code here\n",
        "outlier_condition=(bank_data['age_z'] > 3) | (bank_data['age_z'] < -3)\n",
        "#list of outlier records\n",
        "list_outliers=bank_data[outlier_condition].sort_values(by=['age_z'],ascending=False)\n",
        "print(list_outliers[:10])\n"
      ],
      "metadata": {
        "id": "JK_x-pXK6yHT",
        "colab": {
          "base_uri": "https://localhost:8080/"
        },
        "outputId": "a112d387-46ab-4682-cea1-dbaff95ba603"
      },
      "execution_count": 180,
      "outputs": [
        {
          "output_type": "stream",
          "name": "stdout",
          "text": [
            "       age    job   marital  education  default housing loan   contact  month  \\\n",
            "30769   98  other   married        2.0  unknown     yes   no  cellular     10   \n",
            "30766   98  other   married        2.0  unknown     yes   no  cellular     10   \n",
            "22291   95  other  divorced        3.0       no      no   no  cellular      3   \n",
            "31139   94  other   married        4.0       no      no   no  cellular     11   \n",
            "32361   92  other   married        NaN       no      no  yes  cellular      8   \n",
            "31794   92  other  divorced        NaN  unknown      no   no  cellular      5   \n",
            "31730   92  other   married        NaN       no     yes   no  cellular      5   \n",
            "32377   92  other   married        NaN       no      no  yes  cellular      8   \n",
            "30437   91  other   married       16.0       no      no  yes  cellular      9   \n",
            "30428   91  other   married       16.0       no     yes  yes  cellular      9   \n",
            "\n",
            "      day_of_week  duration  campaign  pdays  previous     poutcome  \\\n",
            "30769         fri       272         2    999         0  nonexistent   \n",
            "30766         fri       476         1      2         2      success   \n",
            "22291         thu        85         1    999         0  nonexistent   \n",
            "31139         wed       134         1    999         1      failure   \n",
            "32361         tue      1064         1      3         1      success   \n",
            "31794         wed       405         3    999         1      failure   \n",
            "31730         thu       271         1      6         2      success   \n",
            "32377         wed       370         1      3         4      success   \n",
            "30437         wed       223         2    999         0  nonexistent   \n",
            "30428         wed       837         1    999         2      failure   \n",
            "\n",
            "       emp.var.rate  cons.price.idx  cons.conf.idx  euribor3m  nr.employed  \\\n",
            "30769          -3.4          92.431          -26.9      0.730       5017.5   \n",
            "30766          -3.4          92.431          -26.9      0.730       5017.5   \n",
            "22291          -1.8          92.843          -50.0      1.650       5099.1   \n",
            "31139          -3.4          92.649          -30.1      0.716       5017.5   \n",
            "32361          -1.7          94.027          -38.3      0.904       4991.6   \n",
            "31794          -1.8          93.876          -40.0      0.697       5008.7   \n",
            "31730          -1.8          93.876          -40.0      0.683       5008.7   \n",
            "32377          -1.7          94.027          -38.3      0.903       4991.6   \n",
            "30437          -3.4          92.379          -29.8      0.781       5017.5   \n",
            "30428          -3.4          92.379          -29.8      0.781       5017.5   \n",
            "\n",
            "         y  campaign_z     age_z  \n",
            "30769  yes   -0.204336  5.571351  \n",
            "30766  yes   -0.570324  5.571351  \n",
            "22291   no   -0.570324  5.283173  \n",
            "31139   no   -0.570324  5.187113  \n",
            "32361  yes   -0.570324  4.994995  \n",
            "31794  yes    0.161652  4.994995  \n",
            "31730   no   -0.570324  4.994995  \n",
            "32377  yes   -0.570324  4.994995  \n",
            "30437   no   -0.204336  4.898935  \n",
            "30428   no   -0.570324  4.898935  \n"
          ]
        }
      ]
    },
    {
      "cell_type": "markdown",
      "source": [
        "**Task**. For the job field,  replace the job descriptions with less than $5%$ of the records with a job description other.\n",
        "For example, the retired job description has $4.2336%$, so this job description needs to be replaced with other.\n",
        "You can use value counts to produce the number of observations for each job description. Dividing the values counts by the number of total rows\n",
        "\n",
        "```python\n",
        "bank_train['job']).value_counts() / bank_train.shape[0]\n",
        "```"
      ],
      "metadata": {
        "id": "jQYUAnVN7nO1"
      }
    },
    {
      "cell_type": "code",
      "source": [
        "#Write your answer and code here\n",
        "job_counts = bank_data['job'].value_counts()\n",
        "replacement= job_counts[job_counts / len(bank_data) < 0.05].index.tolist()\n",
        "# Replace job descriptions with \"other\"\n",
        "bank_data['job'].replace(replacement, 'other',inplace=True)\n",
        "print(bank_data['job'])"
      ],
      "metadata": {
        "id": "jn1cMu267zIc",
        "colab": {
          "base_uri": "https://localhost:8080/"
        },
        "outputId": "03df3b85-61da-49aa-e0d0-b5cbd3a1c935"
      },
      "execution_count": 184,
      "outputs": [
        {
          "output_type": "stream",
          "name": "stdout",
          "text": [
            "0              other\n",
            "1           services\n",
            "2           services\n",
            "3             admin.\n",
            "4           services\n",
            "            ...     \n",
            "32946          other\n",
            "32947    blue-collar\n",
            "32948          other\n",
            "32949     technician\n",
            "32950          other\n",
            "Name: job, Length: 32951, dtype: object\n"
          ]
        }
      ]
    },
    {
      "cell_type": "markdown",
      "source": [
        "**Task**. For the variable month, change the field values to 1–12, but keep the variable categorical."
      ],
      "metadata": {
        "id": "dXXxqId2728F"
      }
    },
    {
      "cell_type": "code",
      "source": [
        "#Write your answer and code here\n",
        "bank_data['month'] = bank_data['month'].replace({'jan': 1,'feb': 2, 'mar': 3, 'apr': 4, 'may': 5, 'jun': 6,'jul': 7, 'aug': 8, 'sep': 9, 'oct': 10, 'nov': 11,\n",
        "    'dec': 12})\n",
        "print(bank_data['month'])"
      ],
      "metadata": {
        "id": "flzGsYHO772L",
        "colab": {
          "base_uri": "https://localhost:8080/"
        },
        "outputId": "d1f093cc-5d84-46bd-c82c-8a723d847d0c"
      },
      "execution_count": 164,
      "outputs": [
        {
          "output_type": "stream",
          "name": "stdout",
          "text": [
            "0         5\n",
            "1         5\n",
            "2         5\n",
            "3         5\n",
            "4         5\n",
            "         ..\n",
            "32946    11\n",
            "32947    11\n",
            "32948    11\n",
            "32949    11\n",
            "32950    11\n",
            "Name: month, Length: 32951, dtype: int64\n"
          ]
        }
      ]
    },
    {
      "cell_type": "markdown",
      "source": [
        "**Task**. Do the following for the campaign field.\n",
        "\n",
        "1. Standardize the variable and store it in `campaign_z` field.\n",
        "2. Identify how many outliers there are and identify the most extreme outlier. Use the following condition to determine the extreme outlier values for standardized field `campaign_z`: `campaign _z > 3 | campaign_z < ‐3`\n"
      ],
      "metadata": {
        "id": "4Tys4g2Q78xb"
      }
    },
    {
      "cell_type": "code",
      "source": [
        "#Write your answer and code here\n",
        "#standardize the variable\n",
        "\n",
        "bank_data['campaign_z'] =((bank_data.campaign-bank_data.campaign.mean())/(bank_data.campaign.std()))\n",
        "outliers = bank_data[(bank_data['campaign_z'] > 3) | (bank_data['campaign_z'] < -3)]\n",
        "extreme_outlier = outliers['campaign_z'].min()\n",
        "print(\"Number of outliers:\", len(outliers))\n",
        "print(\"Most extreme outlier:\", extreme_outlier)\n",
        "print(outliers[['campaign','campaign_z']])\n",
        "\n"
      ],
      "metadata": {
        "id": "9_yi3dnk78Vc",
        "colab": {
          "base_uri": "https://localhost:8080/"
        },
        "outputId": "b7b14f0b-de44-4191-97b4-4828e8cf7e9f"
      },
      "execution_count": 182,
      "outputs": [
        {
          "output_type": "stream",
          "name": "stdout",
          "text": [
            "Number of outliers: 690\n",
            "Most extreme outlier: 3.0895101187182785\n",
            "       campaign  campaign_z\n",
            "1744         11    3.089510\n",
            "1780         12    3.455493\n",
            "2070         11    3.089510\n",
            "2071         11    3.089510\n",
            "2092         12    3.455493\n",
            "...         ...         ...\n",
            "28617        12    3.455493\n",
            "29499        15    4.553440\n",
            "30313        12    3.455493\n",
            "30327        13    3.821475\n",
            "32061        11    3.089510\n",
            "\n",
            "[690 rows x 2 columns]\n"
          ]
        }
      ]
    },
    {
      "cell_type": "markdown",
      "source": [
        "### **The workshop report should include:**\n",
        "- (a)\tComplete this declaration by adding your names:\n",
        "We, Apeksha Nanda, Saloni Kamboj, declare that the attached assignment is our own work in accordance with the Seneca Academic Policy. We have not copied any part of this assignment, manually or electronically, from any other source, including websites, unless specified as references. We have not distributed our work to other students.\n",
        "\n",
        "- (b)\tSpecify what each member has done towards the completion of this work:\n",
        "\n",
        "| | Name| Task(s) |\n",
        "|---|---|---|\n",
        "|1| Apeksha Nanda   |   Part 2,3,4  |\n",
        "|2| Saloni Kamboj    |  Part 2,3,4  |"
      ],
      "metadata": {
        "id": "KUE9om3O8Wf2"
      }
    },
    {
      "cell_type": "code",
      "source": [],
      "metadata": {
        "id": "Y-ywmoGz8d1z"
      },
      "execution_count": null,
      "outputs": []
    }
  ],
  "metadata": {
    "kernelspec": {
      "display_name": "Python 3",
      "language": "python",
      "name": "python3"
    },
    "language_info": {
      "codemirror_mode": {
        "name": "ipython",
        "version": 3
      },
      "file_extension": ".py",
      "mimetype": "text/x-python",
      "name": "python",
      "nbconvert_exporter": "python",
      "pygments_lexer": "ipython3",
      "version": "3.7.3"
    },
    "colab": {
      "provenance": []
    }
  },
  "nbformat": 4,
  "nbformat_minor": 0
}